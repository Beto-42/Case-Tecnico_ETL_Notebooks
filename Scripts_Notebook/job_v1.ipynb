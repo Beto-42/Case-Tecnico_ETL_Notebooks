{
 "cells": [
  {
   "cell_type": "code",
   "execution_count": 2,
   "id": "d63c8ba1-30dc-4487-802f-b8290a575942",
   "metadata": {},
   "outputs": [
    {
     "name": "stdout",
     "output_type": "stream",
     "text": [
      "Job Concluído com Sucesso!\n"
     ]
    }
   ],
   "source": [
    "# Criação de Pipeline ETL(Extração, Limpeza, Transformação e Enriquecimento de Dados)\n",
    "\n",
    "# Importações\n",
    "\n",
    "import csv\n",
    "import sqlite3\n",
    "\n",
    "# Cria um novo banco de dados (SQLite)\n",
    "conn = sqlite3.connect('produtos.db')\n",
    "\n",
    "# Cria uma tabela para armazenar os dados de produção de alimentos\n",
    "conn.execute('''CREATE TABLE producao (\n",
    "                produto TEXT,\n",
    "                quantidade INTEGER,\n",
    "                preco_medio REAL,\n",
    "                receita_total REAL\n",
    "            )''')\n",
    "\n",
    "# Grava e fecha a conexão\n",
    "conn.commit()\n",
    "conn.close()\n",
    "\n",
    "# Abre o arquivo CSV com os dados de produção de alimentos\n",
    "with open('producao_revisada.csv', 'r') as file:\n",
    "    \n",
    "    # Cria um leitor de CSV para ler o arquivo\n",
    "    reader = csv.reader(file)\n",
    "\n",
    "    # Pula a primeira linha, que contém os cabeçalhos das colunas\n",
    "    next(reader)\n",
    "\n",
    "    # Conecta ao banco de dados\n",
    "    conn = sqlite3.connect('produtos.db')\n",
    "\n",
    "    # Insere cada linha do arquivo na tabela do banco de dados\n",
    "    for row in reader:\n",
    "        conn.execute('INSERT INTO producao (produto, quantidade, preco_medio, receita_total) VALUES (?, ?, ?, ?)', row)\n",
    "\n",
    "    conn.commit()\n",
    "    conn.close()\n",
    "\n",
    "print(\"Job Concluído com Sucesso!\")\n"
   ]
  }
 ],
 "metadata": {
  "kernelspec": {
   "display_name": "Python 3 (ipykernel)",
   "language": "python",
   "name": "python3"
  },
  "language_info": {
   "codemirror_mode": {
    "name": "ipython",
    "version": 3
   },
   "file_extension": ".py",
   "mimetype": "text/x-python",
   "name": "python",
   "nbconvert_exporter": "python",
   "pygments_lexer": "ipython3",
   "version": "3.13.3"
  }
 },
 "nbformat": 4,
 "nbformat_minor": 5
}
