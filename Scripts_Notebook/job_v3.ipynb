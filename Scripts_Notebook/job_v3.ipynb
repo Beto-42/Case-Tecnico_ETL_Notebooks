{
 "cells": [
  {
   "cell_type": "code",
   "execution_count": 1,
   "id": "bef18944-6b58-4d33-9e4e-1d5fea8a2d2f",
   "metadata": {},
   "outputs": [
    {
     "name": "stdout",
     "output_type": "stream",
     "text": [
      "Job Concluído com Sucesso!\n"
     ]
    }
   ],
   "source": [
    "# Versão 3\n",
    "# Regra de negócio: Remover o caracter \"ponto\" na última coluna do arquivo para evitar que o número seja truncado \n",
    "\n",
    "# Imports\n",
    "import csv\n",
    "import sqlite3\n",
    "\n",
    "# Função para remover o ponto nos dados da última coluna\n",
    "def remove_ponto(valor):\n",
    "    return int(valor.replace('.', ''))\n",
    "\n",
    "# Abre o arquivo CSV com os dados da produção de alimentos\n",
    "with open('producao_revisada.csv', 'r') as file:\n",
    "    \n",
    "    # Cria um leitor de CSV para ler o arquivo\n",
    "    reader = csv.reader(file)\n",
    "\n",
    "    # Pula a primeira linha, que contém os cabeçalhos das colunas\n",
    "    next(reader)\n",
    "\n",
    "    # Conecta ao banco de dados\n",
    "    conn = sqlite3.connect('produtos.db')\n",
    "\n",
    "    # Deleta a tabela existente, se houver\n",
    "    conn.execute('DROP TABLE IF EXISTS producao')\n",
    "\n",
    "    # Cria uma nova tabela para armazenar os dados de produção de alimentos\n",
    "    conn.execute('''CREATE TABLE producao (\n",
    "                    produto TEXT,\n",
    "                    quantidade INTEGER,\n",
    "                    preco_medio REAL,\n",
    "                    receita_total INTEGER\n",
    "                )''')\n",
    "\n",
    "    # Insere cada linha do arquivo com quantidade maior que 10 na tabela do banco de dados\n",
    "    for row in reader:\n",
    "        if int(row[1]) > 10:\n",
    "            \n",
    "            # Remove o ponto do valor da última coluna e converte para inteiro\n",
    "            row[3] = remove_ponto(row[3])\n",
    "\n",
    "            # Insere o registro no banco de dados\n",
    "            conn.execute('INSERT INTO producao (produto, quantidade, preco_medio, receita_total) VALUES (?, ?, ?, ?)', row)\n",
    "\n",
    "    conn.commit()\n",
    "    conn.close()\n",
    "\n",
    "print(\"Job Concluído com Sucesso!\")\n"
   ]
  }
 ],
 "metadata": {
  "kernelspec": {
   "display_name": "Python 3 (ipykernel)",
   "language": "python",
   "name": "python3"
  },
  "language_info": {
   "codemirror_mode": {
    "name": "ipython",
    "version": 3
   },
   "file_extension": ".py",
   "mimetype": "text/x-python",
   "name": "python",
   "nbconvert_exporter": "python",
   "pygments_lexer": "ipython3",
   "version": "3.13.3"
  }
 },
 "nbformat": 4,
 "nbformat_minor": 5
}
